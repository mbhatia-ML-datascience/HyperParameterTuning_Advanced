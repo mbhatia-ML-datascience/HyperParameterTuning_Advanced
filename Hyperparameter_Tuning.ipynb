{
 "cells": [
  {
   "cell_type": "code",
   "execution_count": 55,
   "metadata": {},
   "outputs": [],
   "source": [
    "import pandas as pd\n",
    "import numpy as np\n",
    "import matplotlib.pyplot as plt\n",
    "import seaborn as sns\n",
    "from sklearn.impute import SimpleImputer\n",
    "from sklearn.compose import ColumnTransformer\n",
    "from sklearn.model_selection import train_test_split,RandomizedSearchCV,GridSearchCV,cross_val_score\n",
    "from sklearn.ensemble import RandomForestClassifier\n",
    "from sklearn.metrics import confusion_matrix,classification_report,accuracy_score\n",
    "from hyperopt import hp,fmin,tpe,STATUS_OK,Trials\n",
    "from sklearn.svm import SVC\n",
    "import plotly"
   ]
  },
  {
   "cell_type": "code",
   "execution_count": 2,
   "metadata": {},
   "outputs": [],
   "source": [
    "import warnings\n",
    "warnings.filterwarnings('ignore')"
   ]
  },
  {
   "cell_type": "code",
   "execution_count": 3,
   "metadata": {},
   "outputs": [],
   "source": [
    "df=pd.read_csv('diabetes.csv')"
   ]
  },
  {
   "cell_type": "code",
   "execution_count": 4,
   "metadata": {},
   "outputs": [
    {
     "data": {
      "text/html": [
       "<div>\n",
       "<style scoped>\n",
       "    .dataframe tbody tr th:only-of-type {\n",
       "        vertical-align: middle;\n",
       "    }\n",
       "\n",
       "    .dataframe tbody tr th {\n",
       "        vertical-align: top;\n",
       "    }\n",
       "\n",
       "    .dataframe thead th {\n",
       "        text-align: right;\n",
       "    }\n",
       "</style>\n",
       "<table border=\"1\" class=\"dataframe\">\n",
       "  <thead>\n",
       "    <tr style=\"text-align: right;\">\n",
       "      <th></th>\n",
       "      <th>6</th>\n",
       "      <th>148</th>\n",
       "      <th>72</th>\n",
       "      <th>35</th>\n",
       "      <th>0</th>\n",
       "      <th>33.6</th>\n",
       "      <th>0.627</th>\n",
       "      <th>50</th>\n",
       "      <th>1</th>\n",
       "    </tr>\n",
       "  </thead>\n",
       "  <tbody>\n",
       "    <tr>\n",
       "      <th>0</th>\n",
       "      <td>1</td>\n",
       "      <td>85</td>\n",
       "      <td>66</td>\n",
       "      <td>29</td>\n",
       "      <td>0</td>\n",
       "      <td>26.6</td>\n",
       "      <td>0.351</td>\n",
       "      <td>31</td>\n",
       "      <td>0</td>\n",
       "    </tr>\n",
       "    <tr>\n",
       "      <th>1</th>\n",
       "      <td>8</td>\n",
       "      <td>183</td>\n",
       "      <td>64</td>\n",
       "      <td>0</td>\n",
       "      <td>0</td>\n",
       "      <td>23.3</td>\n",
       "      <td>0.672</td>\n",
       "      <td>32</td>\n",
       "      <td>1</td>\n",
       "    </tr>\n",
       "    <tr>\n",
       "      <th>2</th>\n",
       "      <td>1</td>\n",
       "      <td>89</td>\n",
       "      <td>66</td>\n",
       "      <td>23</td>\n",
       "      <td>94</td>\n",
       "      <td>28.1</td>\n",
       "      <td>0.167</td>\n",
       "      <td>21</td>\n",
       "      <td>0</td>\n",
       "    </tr>\n",
       "    <tr>\n",
       "      <th>3</th>\n",
       "      <td>0</td>\n",
       "      <td>137</td>\n",
       "      <td>40</td>\n",
       "      <td>35</td>\n",
       "      <td>168</td>\n",
       "      <td>43.1</td>\n",
       "      <td>2.288</td>\n",
       "      <td>33</td>\n",
       "      <td>1</td>\n",
       "    </tr>\n",
       "    <tr>\n",
       "      <th>4</th>\n",
       "      <td>5</td>\n",
       "      <td>116</td>\n",
       "      <td>74</td>\n",
       "      <td>0</td>\n",
       "      <td>0</td>\n",
       "      <td>25.6</td>\n",
       "      <td>0.201</td>\n",
       "      <td>30</td>\n",
       "      <td>0</td>\n",
       "    </tr>\n",
       "  </tbody>\n",
       "</table>\n",
       "</div>"
      ],
      "text/plain": [
       "   6  148  72  35    0  33.6  0.627  50  1\n",
       "0  1   85  66  29    0  26.6  0.351  31  0\n",
       "1  8  183  64   0    0  23.3  0.672  32  1\n",
       "2  1   89  66  23   94  28.1  0.167  21  0\n",
       "3  0  137  40  35  168  43.1  2.288  33  1\n",
       "4  5  116  74   0    0  25.6  0.201  30  0"
      ]
     },
     "execution_count": 4,
     "metadata": {},
     "output_type": "execute_result"
    }
   ],
   "source": [
    "df.head()"
   ]
  },
  {
   "cell_type": "code",
   "execution_count": 5,
   "metadata": {},
   "outputs": [],
   "source": [
    "df.columns=['Pregnancies','Glucose','Blood Pressure','Skin Thickness','Insulin','BMI','Diabetes Pedigree Function','Age','Class']"
   ]
  },
  {
   "cell_type": "code",
   "execution_count": 6,
   "metadata": {},
   "outputs": [
    {
     "data": {
      "text/html": [
       "<div>\n",
       "<style scoped>\n",
       "    .dataframe tbody tr th:only-of-type {\n",
       "        vertical-align: middle;\n",
       "    }\n",
       "\n",
       "    .dataframe tbody tr th {\n",
       "        vertical-align: top;\n",
       "    }\n",
       "\n",
       "    .dataframe thead th {\n",
       "        text-align: right;\n",
       "    }\n",
       "</style>\n",
       "<table border=\"1\" class=\"dataframe\">\n",
       "  <thead>\n",
       "    <tr style=\"text-align: right;\">\n",
       "      <th></th>\n",
       "      <th>Pregnancies</th>\n",
       "      <th>Glucose</th>\n",
       "      <th>Blood Pressure</th>\n",
       "      <th>Skin Thickness</th>\n",
       "      <th>Insulin</th>\n",
       "      <th>BMI</th>\n",
       "      <th>Diabetes Pedigree Function</th>\n",
       "      <th>Age</th>\n",
       "      <th>Class</th>\n",
       "    </tr>\n",
       "  </thead>\n",
       "  <tbody>\n",
       "    <tr>\n",
       "      <th>0</th>\n",
       "      <td>1</td>\n",
       "      <td>85</td>\n",
       "      <td>66</td>\n",
       "      <td>29</td>\n",
       "      <td>0</td>\n",
       "      <td>26.6</td>\n",
       "      <td>0.351</td>\n",
       "      <td>31</td>\n",
       "      <td>0</td>\n",
       "    </tr>\n",
       "    <tr>\n",
       "      <th>1</th>\n",
       "      <td>8</td>\n",
       "      <td>183</td>\n",
       "      <td>64</td>\n",
       "      <td>0</td>\n",
       "      <td>0</td>\n",
       "      <td>23.3</td>\n",
       "      <td>0.672</td>\n",
       "      <td>32</td>\n",
       "      <td>1</td>\n",
       "    </tr>\n",
       "    <tr>\n",
       "      <th>2</th>\n",
       "      <td>1</td>\n",
       "      <td>89</td>\n",
       "      <td>66</td>\n",
       "      <td>23</td>\n",
       "      <td>94</td>\n",
       "      <td>28.1</td>\n",
       "      <td>0.167</td>\n",
       "      <td>21</td>\n",
       "      <td>0</td>\n",
       "    </tr>\n",
       "    <tr>\n",
       "      <th>3</th>\n",
       "      <td>0</td>\n",
       "      <td>137</td>\n",
       "      <td>40</td>\n",
       "      <td>35</td>\n",
       "      <td>168</td>\n",
       "      <td>43.1</td>\n",
       "      <td>2.288</td>\n",
       "      <td>33</td>\n",
       "      <td>1</td>\n",
       "    </tr>\n",
       "    <tr>\n",
       "      <th>4</th>\n",
       "      <td>5</td>\n",
       "      <td>116</td>\n",
       "      <td>74</td>\n",
       "      <td>0</td>\n",
       "      <td>0</td>\n",
       "      <td>25.6</td>\n",
       "      <td>0.201</td>\n",
       "      <td>30</td>\n",
       "      <td>0</td>\n",
       "    </tr>\n",
       "  </tbody>\n",
       "</table>\n",
       "</div>"
      ],
      "text/plain": [
       "   Pregnancies  Glucose  Blood Pressure  Skin Thickness  Insulin   BMI  \\\n",
       "0            1       85              66              29        0  26.6   \n",
       "1            8      183              64               0        0  23.3   \n",
       "2            1       89              66              23       94  28.1   \n",
       "3            0      137              40              35      168  43.1   \n",
       "4            5      116              74               0        0  25.6   \n",
       "\n",
       "   Diabetes Pedigree Function  Age  Class  \n",
       "0                       0.351   31      0  \n",
       "1                       0.672   32      1  \n",
       "2                       0.167   21      0  \n",
       "3                       2.288   33      1  \n",
       "4                       0.201   30      0  "
      ]
     },
     "execution_count": 6,
     "metadata": {},
     "output_type": "execute_result"
    }
   ],
   "source": [
    "df.head()"
   ]
  },
  {
   "cell_type": "code",
   "execution_count": 7,
   "metadata": {},
   "outputs": [
    {
     "name": "stdout",
     "output_type": "stream",
     "text": [
      "<class 'pandas.core.frame.DataFrame'>\n",
      "RangeIndex: 767 entries, 0 to 766\n",
      "Data columns (total 9 columns):\n",
      " #   Column                      Non-Null Count  Dtype  \n",
      "---  ------                      --------------  -----  \n",
      " 0   Pregnancies                 767 non-null    int64  \n",
      " 1   Glucose                     767 non-null    int64  \n",
      " 2   Blood Pressure              767 non-null    int64  \n",
      " 3   Skin Thickness              767 non-null    int64  \n",
      " 4   Insulin                     767 non-null    int64  \n",
      " 5   BMI                         767 non-null    float64\n",
      " 6   Diabetes Pedigree Function  767 non-null    float64\n",
      " 7   Age                         767 non-null    int64  \n",
      " 8   Class                       767 non-null    int64  \n",
      "dtypes: float64(2), int64(7)\n",
      "memory usage: 54.1 KB\n"
     ]
    }
   ],
   "source": [
    "df.info()"
   ]
  },
  {
   "cell_type": "code",
   "execution_count": 8,
   "metadata": {},
   "outputs": [
    {
     "data": {
      "text/html": [
       "<div>\n",
       "<style scoped>\n",
       "    .dataframe tbody tr th:only-of-type {\n",
       "        vertical-align: middle;\n",
       "    }\n",
       "\n",
       "    .dataframe tbody tr th {\n",
       "        vertical-align: top;\n",
       "    }\n",
       "\n",
       "    .dataframe thead th {\n",
       "        text-align: right;\n",
       "    }\n",
       "</style>\n",
       "<table border=\"1\" class=\"dataframe\">\n",
       "  <thead>\n",
       "    <tr style=\"text-align: right;\">\n",
       "      <th></th>\n",
       "      <th>Pregnancies</th>\n",
       "      <th>Glucose</th>\n",
       "      <th>Blood Pressure</th>\n",
       "      <th>Skin Thickness</th>\n",
       "      <th>Insulin</th>\n",
       "      <th>BMI</th>\n",
       "      <th>Diabetes Pedigree Function</th>\n",
       "      <th>Age</th>\n",
       "      <th>Class</th>\n",
       "    </tr>\n",
       "  </thead>\n",
       "  <tbody>\n",
       "    <tr>\n",
       "      <th>count</th>\n",
       "      <td>767.000000</td>\n",
       "      <td>767.000000</td>\n",
       "      <td>767.000000</td>\n",
       "      <td>767.000000</td>\n",
       "      <td>767.000000</td>\n",
       "      <td>767.000000</td>\n",
       "      <td>767.000000</td>\n",
       "      <td>767.000000</td>\n",
       "      <td>767.000000</td>\n",
       "    </tr>\n",
       "    <tr>\n",
       "      <th>mean</th>\n",
       "      <td>3.842243</td>\n",
       "      <td>120.859192</td>\n",
       "      <td>69.101695</td>\n",
       "      <td>20.517601</td>\n",
       "      <td>79.903520</td>\n",
       "      <td>31.990482</td>\n",
       "      <td>0.471674</td>\n",
       "      <td>33.219035</td>\n",
       "      <td>0.348110</td>\n",
       "    </tr>\n",
       "    <tr>\n",
       "      <th>std</th>\n",
       "      <td>3.370877</td>\n",
       "      <td>31.978468</td>\n",
       "      <td>19.368155</td>\n",
       "      <td>15.954059</td>\n",
       "      <td>115.283105</td>\n",
       "      <td>7.889091</td>\n",
       "      <td>0.331497</td>\n",
       "      <td>11.752296</td>\n",
       "      <td>0.476682</td>\n",
       "    </tr>\n",
       "    <tr>\n",
       "      <th>min</th>\n",
       "      <td>0.000000</td>\n",
       "      <td>0.000000</td>\n",
       "      <td>0.000000</td>\n",
       "      <td>0.000000</td>\n",
       "      <td>0.000000</td>\n",
       "      <td>0.000000</td>\n",
       "      <td>0.078000</td>\n",
       "      <td>21.000000</td>\n",
       "      <td>0.000000</td>\n",
       "    </tr>\n",
       "    <tr>\n",
       "      <th>25%</th>\n",
       "      <td>1.000000</td>\n",
       "      <td>99.000000</td>\n",
       "      <td>62.000000</td>\n",
       "      <td>0.000000</td>\n",
       "      <td>0.000000</td>\n",
       "      <td>27.300000</td>\n",
       "      <td>0.243500</td>\n",
       "      <td>24.000000</td>\n",
       "      <td>0.000000</td>\n",
       "    </tr>\n",
       "    <tr>\n",
       "      <th>50%</th>\n",
       "      <td>3.000000</td>\n",
       "      <td>117.000000</td>\n",
       "      <td>72.000000</td>\n",
       "      <td>23.000000</td>\n",
       "      <td>32.000000</td>\n",
       "      <td>32.000000</td>\n",
       "      <td>0.371000</td>\n",
       "      <td>29.000000</td>\n",
       "      <td>0.000000</td>\n",
       "    </tr>\n",
       "    <tr>\n",
       "      <th>75%</th>\n",
       "      <td>6.000000</td>\n",
       "      <td>140.000000</td>\n",
       "      <td>80.000000</td>\n",
       "      <td>32.000000</td>\n",
       "      <td>127.500000</td>\n",
       "      <td>36.600000</td>\n",
       "      <td>0.625000</td>\n",
       "      <td>41.000000</td>\n",
       "      <td>1.000000</td>\n",
       "    </tr>\n",
       "    <tr>\n",
       "      <th>max</th>\n",
       "      <td>17.000000</td>\n",
       "      <td>199.000000</td>\n",
       "      <td>122.000000</td>\n",
       "      <td>99.000000</td>\n",
       "      <td>846.000000</td>\n",
       "      <td>67.100000</td>\n",
       "      <td>2.420000</td>\n",
       "      <td>81.000000</td>\n",
       "      <td>1.000000</td>\n",
       "    </tr>\n",
       "  </tbody>\n",
       "</table>\n",
       "</div>"
      ],
      "text/plain": [
       "       Pregnancies     Glucose  Blood Pressure  Skin Thickness     Insulin  \\\n",
       "count   767.000000  767.000000      767.000000      767.000000  767.000000   \n",
       "mean      3.842243  120.859192       69.101695       20.517601   79.903520   \n",
       "std       3.370877   31.978468       19.368155       15.954059  115.283105   \n",
       "min       0.000000    0.000000        0.000000        0.000000    0.000000   \n",
       "25%       1.000000   99.000000       62.000000        0.000000    0.000000   \n",
       "50%       3.000000  117.000000       72.000000       23.000000   32.000000   \n",
       "75%       6.000000  140.000000       80.000000       32.000000  127.500000   \n",
       "max      17.000000  199.000000      122.000000       99.000000  846.000000   \n",
       "\n",
       "              BMI  Diabetes Pedigree Function         Age       Class  \n",
       "count  767.000000                  767.000000  767.000000  767.000000  \n",
       "mean    31.990482                    0.471674   33.219035    0.348110  \n",
       "std      7.889091                    0.331497   11.752296    0.476682  \n",
       "min      0.000000                    0.078000   21.000000    0.000000  \n",
       "25%     27.300000                    0.243500   24.000000    0.000000  \n",
       "50%     32.000000                    0.371000   29.000000    0.000000  \n",
       "75%     36.600000                    0.625000   41.000000    1.000000  \n",
       "max     67.100000                    2.420000   81.000000    1.000000  "
      ]
     },
     "execution_count": 8,
     "metadata": {},
     "output_type": "execute_result"
    }
   ],
   "source": [
    "df.describe()"
   ]
  },
  {
   "cell_type": "code",
   "execution_count": 9,
   "metadata": {},
   "outputs": [],
   "source": [
    "df[['Glucose','Blood Pressure','Skin Thickness','Insulin','BMI']]=df[['Glucose','Blood Pressure','Skin Thickness','Insulin','BMI']].replace(0,np.NAN)"
   ]
  },
  {
   "cell_type": "code",
   "execution_count": 10,
   "metadata": {},
   "outputs": [
    {
     "data": {
      "text/plain": [
       "Pregnancies                     0\n",
       "Glucose                         5\n",
       "Blood Pressure                 35\n",
       "Skin Thickness                227\n",
       "Insulin                       373\n",
       "BMI                            11\n",
       "Diabetes Pedigree Function      0\n",
       "Age                             0\n",
       "Class                           0\n",
       "dtype: int64"
      ]
     },
     "execution_count": 10,
     "metadata": {},
     "output_type": "execute_result"
    }
   ],
   "source": [
    "df.isna().sum()"
   ]
  },
  {
   "cell_type": "code",
   "execution_count": 11,
   "metadata": {},
   "outputs": [],
   "source": [
    "imputed_cols=['Glucose','Blood Pressure','Skin Thickness','Insulin','BMI']\n",
    "imputer=SimpleImputer(missing_values=np.NAN,strategy='median')\n",
    "transformer=ColumnTransformer([('imputer',imputer,imputed_cols)],remainder='passthrough')\n",
    "df_transformed=transformer.fit_transform(df)\n"
   ]
  },
  {
   "cell_type": "code",
   "execution_count": 12,
   "metadata": {},
   "outputs": [],
   "source": [
    "df=pd.DataFrame(df_transformed)"
   ]
  },
  {
   "cell_type": "code",
   "execution_count": 13,
   "metadata": {},
   "outputs": [],
   "source": [
    "df.columns=['Pregnancies','Glucose','Blood Pressure','Skin Thickness','Insulin','BMI','Diabetes Pedigree Function','Age','Class']"
   ]
  },
  {
   "cell_type": "code",
   "execution_count": 14,
   "metadata": {},
   "outputs": [
    {
     "data": {
      "text/html": [
       "<div>\n",
       "<style scoped>\n",
       "    .dataframe tbody tr th:only-of-type {\n",
       "        vertical-align: middle;\n",
       "    }\n",
       "\n",
       "    .dataframe tbody tr th {\n",
       "        vertical-align: top;\n",
       "    }\n",
       "\n",
       "    .dataframe thead th {\n",
       "        text-align: right;\n",
       "    }\n",
       "</style>\n",
       "<table border=\"1\" class=\"dataframe\">\n",
       "  <thead>\n",
       "    <tr style=\"text-align: right;\">\n",
       "      <th></th>\n",
       "      <th>Pregnancies</th>\n",
       "      <th>Glucose</th>\n",
       "      <th>Blood Pressure</th>\n",
       "      <th>Skin Thickness</th>\n",
       "      <th>Insulin</th>\n",
       "      <th>BMI</th>\n",
       "      <th>Diabetes Pedigree Function</th>\n",
       "      <th>Age</th>\n",
       "      <th>Class</th>\n",
       "    </tr>\n",
       "  </thead>\n",
       "  <tbody>\n",
       "    <tr>\n",
       "      <th>0</th>\n",
       "      <td>85.0</td>\n",
       "      <td>66.0</td>\n",
       "      <td>29.0</td>\n",
       "      <td>125.0</td>\n",
       "      <td>26.6</td>\n",
       "      <td>1.0</td>\n",
       "      <td>0.351</td>\n",
       "      <td>31.0</td>\n",
       "      <td>0.0</td>\n",
       "    </tr>\n",
       "    <tr>\n",
       "      <th>1</th>\n",
       "      <td>183.0</td>\n",
       "      <td>64.0</td>\n",
       "      <td>29.0</td>\n",
       "      <td>125.0</td>\n",
       "      <td>23.3</td>\n",
       "      <td>8.0</td>\n",
       "      <td>0.672</td>\n",
       "      <td>32.0</td>\n",
       "      <td>1.0</td>\n",
       "    </tr>\n",
       "    <tr>\n",
       "      <th>2</th>\n",
       "      <td>89.0</td>\n",
       "      <td>66.0</td>\n",
       "      <td>23.0</td>\n",
       "      <td>94.0</td>\n",
       "      <td>28.1</td>\n",
       "      <td>1.0</td>\n",
       "      <td>0.167</td>\n",
       "      <td>21.0</td>\n",
       "      <td>0.0</td>\n",
       "    </tr>\n",
       "    <tr>\n",
       "      <th>3</th>\n",
       "      <td>137.0</td>\n",
       "      <td>40.0</td>\n",
       "      <td>35.0</td>\n",
       "      <td>168.0</td>\n",
       "      <td>43.1</td>\n",
       "      <td>0.0</td>\n",
       "      <td>2.288</td>\n",
       "      <td>33.0</td>\n",
       "      <td>1.0</td>\n",
       "    </tr>\n",
       "    <tr>\n",
       "      <th>4</th>\n",
       "      <td>116.0</td>\n",
       "      <td>74.0</td>\n",
       "      <td>29.0</td>\n",
       "      <td>125.0</td>\n",
       "      <td>25.6</td>\n",
       "      <td>5.0</td>\n",
       "      <td>0.201</td>\n",
       "      <td>30.0</td>\n",
       "      <td>0.0</td>\n",
       "    </tr>\n",
       "  </tbody>\n",
       "</table>\n",
       "</div>"
      ],
      "text/plain": [
       "   Pregnancies  Glucose  Blood Pressure  Skin Thickness  Insulin  BMI  \\\n",
       "0         85.0     66.0            29.0           125.0     26.6  1.0   \n",
       "1        183.0     64.0            29.0           125.0     23.3  8.0   \n",
       "2         89.0     66.0            23.0            94.0     28.1  1.0   \n",
       "3        137.0     40.0            35.0           168.0     43.1  0.0   \n",
       "4        116.0     74.0            29.0           125.0     25.6  5.0   \n",
       "\n",
       "   Diabetes Pedigree Function   Age  Class  \n",
       "0                       0.351  31.0    0.0  \n",
       "1                       0.672  32.0    1.0  \n",
       "2                       0.167  21.0    0.0  \n",
       "3                       2.288  33.0    1.0  \n",
       "4                       0.201  30.0    0.0  "
      ]
     },
     "execution_count": 14,
     "metadata": {},
     "output_type": "execute_result"
    }
   ],
   "source": [
    "df.head()"
   ]
  },
  {
   "cell_type": "code",
   "execution_count": 15,
   "metadata": {},
   "outputs": [
    {
     "data": {
      "text/plain": [
       "Pregnancies                   0\n",
       "Glucose                       0\n",
       "Blood Pressure                0\n",
       "Skin Thickness                0\n",
       "Insulin                       0\n",
       "BMI                           0\n",
       "Diabetes Pedigree Function    0\n",
       "Age                           0\n",
       "Class                         0\n",
       "dtype: int64"
      ]
     },
     "execution_count": 15,
     "metadata": {},
     "output_type": "execute_result"
    }
   ],
   "source": [
    "df.isna().sum()"
   ]
  },
  {
   "cell_type": "code",
   "execution_count": 16,
   "metadata": {},
   "outputs": [],
   "source": [
    "X=df.drop('Class',axis=1)\n",
    "y=df['Class']"
   ]
  },
  {
   "cell_type": "code",
   "execution_count": 17,
   "metadata": {},
   "outputs": [
    {
     "name": "stdout",
     "output_type": "stream",
     "text": [
      "(767, 8)\n",
      "(767,)\n"
     ]
    }
   ],
   "source": [
    "print(X.shape)\n",
    "print(y.shape)"
   ]
  },
  {
   "cell_type": "code",
   "execution_count": 18,
   "metadata": {},
   "outputs": [],
   "source": [
    "X_train,X_test,y_train,y_test=train_test_split(X,y,test_size=0.2,random_state=42)"
   ]
  },
  {
   "cell_type": "code",
   "execution_count": 19,
   "metadata": {},
   "outputs": [],
   "source": [
    "rf_classifer=RandomForestClassifier(n_estimators=10).fit(X_train,y_train)\n",
    "predictions=rf_classifer.predict(X_test)"
   ]
  },
  {
   "cell_type": "code",
   "execution_count": 20,
   "metadata": {},
   "outputs": [],
   "source": [
    "predictions_series=pd.Series(predictions)"
   ]
  },
  {
   "cell_type": "code",
   "execution_count": 21,
   "metadata": {},
   "outputs": [
    {
     "data": {
      "text/plain": [
       "0.0    103\n",
       "1.0     51\n",
       "dtype: int64"
      ]
     },
     "execution_count": 21,
     "metadata": {},
     "output_type": "execute_result"
    }
   ],
   "source": [
    "predictions_series.value_counts()"
   ]
  },
  {
   "cell_type": "code",
   "execution_count": null,
   "metadata": {},
   "outputs": [],
   "source": []
  },
  {
   "cell_type": "code",
   "execution_count": 22,
   "metadata": {},
   "outputs": [
    {
     "data": {
      "text/plain": [
       "0.0    500\n",
       "1.0    267\n",
       "Name: Class, dtype: int64"
      ]
     },
     "execution_count": 22,
     "metadata": {},
     "output_type": "execute_result"
    }
   ],
   "source": [
    "y.value_counts()"
   ]
  },
  {
   "cell_type": "code",
   "execution_count": 23,
   "metadata": {},
   "outputs": [
    {
     "data": {
      "text/plain": [
       "array([[80, 17],\n",
       "       [22, 35]], dtype=int64)"
      ]
     },
     "execution_count": 23,
     "metadata": {},
     "output_type": "execute_result"
    }
   ],
   "source": [
    "confusion_matrix(y_test,predictions)"
   ]
  },
  {
   "cell_type": "code",
   "execution_count": 24,
   "metadata": {},
   "outputs": [
    {
     "name": "stdout",
     "output_type": "stream",
     "text": [
      "              precision    recall  f1-score   support\n",
      "\n",
      "         0.0       0.78      0.82      0.80        97\n",
      "         1.0       0.67      0.61      0.64        57\n",
      "\n",
      "    accuracy                           0.75       154\n",
      "   macro avg       0.73      0.72      0.72       154\n",
      "weighted avg       0.74      0.75      0.74       154\n",
      "\n"
     ]
    }
   ],
   "source": [
    "print(classification_report(y_test,predictions))"
   ]
  },
  {
   "cell_type": "code",
   "execution_count": 25,
   "metadata": {},
   "outputs": [
    {
     "data": {
      "text/plain": [
       "RandomForestClassifier()"
      ]
     },
     "execution_count": 25,
     "metadata": {},
     "output_type": "execute_result"
    }
   ],
   "source": [
    "RandomForestClassifier()"
   ]
  },
  {
   "cell_type": "code",
   "execution_count": 26,
   "metadata": {},
   "outputs": [],
   "source": [
    "n_estimators=np.linspace(10,1000,num=100).astype(np.int64)\n",
    "max_depth=np.linspace(1,100,num=100)\n",
    "min_samples_split=[1,5,10,20,50]\n",
    "max_features=['auto','sqrt','log2']\n",
    "criterion=['gini','entropy']\n",
    "min_samples_leaf=[1,5,10,15,20]\n",
    "param_grid={'n_estimators':n_estimators,\n",
    "            'max_depth':max_depth,\n",
    "            'min_samples_split':min_samples_split,\n",
    "            'max_features':max_features,\n",
    "            'criterion':criterion,\n",
    "            'min_samples_leaf':min_samples_leaf\n",
    "           \n",
    "           }\n",
    "\n"
   ]
  },
  {
   "cell_type": "code",
   "execution_count": 27,
   "metadata": {},
   "outputs": [
    {
     "data": {
      "text/plain": [
       "RandomizedSearchCV(cv=3, estimator=RandomForestClassifier(), n_jobs=-1,\n",
       "                   param_distributions={'criterion': ['gini', 'entropy'],\n",
       "                                        'max_depth': array([  1.,   2.,   3.,   4.,   5.,   6.,   7.,   8.,   9.,  10.,  11.,\n",
       "        12.,  13.,  14.,  15.,  16.,  17.,  18.,  19.,  20.,  21.,  22.,\n",
       "        23.,  24.,  25.,  26.,  27.,  28.,  29.,  30.,  31.,  32.,  33.,\n",
       "        34.,  35.,  36.,  37.,  38.,  39.,  40.,  41.,  42.,  43.,  44.,\n",
       "        45.,  46.,  47.,  48.,  49.,  50.,  51.,  52.,  53.,  54.,  55....\n",
       "        120,  130,  140,  150,  160,  170,  180,  190,  200,  210,  220,\n",
       "        230,  240,  250,  260,  270,  280,  290,  300,  310,  320,  330,\n",
       "        340,  350,  360,  370,  380,  390,  400,  410,  420,  430,  440,\n",
       "        450,  460,  470,  480,  490,  500,  510,  520,  530,  540,  550,\n",
       "        560,  570,  580,  590,  600,  610,  620,  630,  640,  650,  660,\n",
       "        670,  680,  690,  700,  710,  720,  730,  740,  750,  760,  770,\n",
       "        780,  790,  800,  810,  820,  830,  840,  850,  860,  870,  880,\n",
       "        890,  900,  910,  920,  930,  940,  950,  960,  970,  980,  990,\n",
       "       1000], dtype=int64)},\n",
       "                   random_state=100)"
      ]
     },
     "execution_count": 27,
     "metadata": {},
     "output_type": "execute_result"
    }
   ],
   "source": [
    "rf=RandomForestClassifier()\n",
    "rf_cv_tuned=RandomizedSearchCV(estimator=rf,param_distributions=param_grid,n_iter=10,cv=3,random_state=100,n_jobs=-1)\n",
    "rf_cv_tuned.fit(X_train,y_train)"
   ]
  },
  {
   "cell_type": "code",
   "execution_count": 28,
   "metadata": {},
   "outputs": [
    {
     "data": {
      "text/plain": [
       "{'n_estimators': 990,\n",
       " 'min_samples_split': 50,\n",
       " 'min_samples_leaf': 1,\n",
       " 'max_features': 'auto',\n",
       " 'max_depth': 85.0,\n",
       " 'criterion': 'gini'}"
      ]
     },
     "execution_count": 28,
     "metadata": {},
     "output_type": "execute_result"
    }
   ],
   "source": [
    "rf_cv_tuned.best_params_"
   ]
  },
  {
   "cell_type": "code",
   "execution_count": 29,
   "metadata": {},
   "outputs": [],
   "source": [
    "y_preds=rf_cv_tuned.predict(X_test)"
   ]
  },
  {
   "cell_type": "code",
   "execution_count": 30,
   "metadata": {},
   "outputs": [
    {
     "name": "stdout",
     "output_type": "stream",
     "text": [
      "              precision    recall  f1-score   support\n",
      "\n",
      "         0.0       0.79      0.85      0.82        97\n",
      "         1.0       0.70      0.61      0.65        57\n",
      "\n",
      "    accuracy                           0.76       154\n",
      "   macro avg       0.74      0.73      0.74       154\n",
      "weighted avg       0.76      0.76      0.76       154\n",
      "\n"
     ]
    }
   ],
   "source": [
    "print(classification_report(y_test,y_preds))"
   ]
  },
  {
   "cell_type": "code",
   "execution_count": 31,
   "metadata": {},
   "outputs": [],
   "source": [
    "param_grid={'max_features':[rf_cv_tuned.best_params_['max_features']],\n",
    "           'criterion':[rf_cv_tuned.best_params_['criterion']],\n",
    "           'min_samples_split' :[rf_cv_tuned.best_params_['min_samples_split'],\n",
    "                                rf_cv_tuned.best_params_['min_samples_split']-10,\n",
    "                                rf_cv_tuned.best_params_['min_samples_split']-20,\n",
    "                                rf_cv_tuned.best_params_['min_samples_split']+10,\n",
    "                                rf_cv_tuned.best_params_['min_samples_split']+20],\n",
    "            'min_samples_leaf' :[rf_cv_tuned.best_params_['min_samples_leaf'],\n",
    "                                rf_cv_tuned.best_params_['min_samples_leaf']+4,\n",
    "                                rf_cv_tuned.best_params_['min_samples_leaf']+9],\n",
    "            'max_depth'        :[rf_cv_tuned.best_params_['max_depth'],\n",
    "                                rf_cv_tuned.best_params_['max_depth']-8],\n",
    "            'n_estimators'     :[rf_cv_tuned.best_params_['n_estimators'],\n",
    "                                rf_cv_tuned.best_params_['n_estimators']-50,\n",
    "                                rf_cv_tuned.best_params_['n_estimators']+50,\n",
    "                                rf_cv_tuned.best_params_['n_estimators']-150,\n",
    "                                rf_cv_tuned.best_params_['n_estimators']-250]\n",
    "         \n",
    "           \n",
    "           }"
   ]
  },
  {
   "cell_type": "code",
   "execution_count": 32,
   "metadata": {},
   "outputs": [
    {
     "name": "stdout",
     "output_type": "stream",
     "text": [
      "Fitting 3 folds for each of 150 candidates, totalling 450 fits\n"
     ]
    },
    {
     "name": "stderr",
     "output_type": "stream",
     "text": [
      "[Parallel(n_jobs=-1)]: Using backend LokyBackend with 4 concurrent workers.\n",
      "[Parallel(n_jobs=-1)]: Done  42 tasks      | elapsed:   47.0s\n",
      "[Parallel(n_jobs=-1)]: Done 192 tasks      | elapsed:  4.1min\n",
      "[Parallel(n_jobs=-1)]: Done 442 tasks      | elapsed:  9.2min\n",
      "[Parallel(n_jobs=-1)]: Done 450 out of 450 | elapsed:  9.3min finished\n"
     ]
    },
    {
     "data": {
      "text/plain": [
       "GridSearchCV(cv=3, estimator=RandomForestClassifier(), n_jobs=-1,\n",
       "             param_grid={'criterion': ['gini'], 'max_depth': [85.0, 77.0],\n",
       "                         'max_features': ['auto'],\n",
       "                         'min_samples_leaf': [1, 5, 10],\n",
       "                         'min_samples_split': [50, 40, 30, 60, 70],\n",
       "                         'n_estimators': [990, 940, 1040, 840, 740]},\n",
       "             verbose=True)"
      ]
     },
     "execution_count": 32,
     "metadata": {},
     "output_type": "execute_result"
    }
   ],
   "source": [
    "rf=RandomForestClassifier()\n",
    "rf_grid=GridSearchCV(estimator=rf,param_grid=param_grid,cv=3,n_jobs=-1,verbose=True)\n",
    "rf_grid.fit(X_train,y_train)"
   ]
  },
  {
   "cell_type": "code",
   "execution_count": 33,
   "metadata": {},
   "outputs": [],
   "source": [
    "best_grid=rf_grid.best_estimator_"
   ]
  },
  {
   "cell_type": "code",
   "execution_count": 34,
   "metadata": {},
   "outputs": [
    {
     "data": {
      "text/plain": [
       "RandomForestClassifier(max_depth=77.0, min_samples_leaf=5, min_samples_split=40,\n",
       "                       n_estimators=940)"
      ]
     },
     "execution_count": 34,
     "metadata": {},
     "output_type": "execute_result"
    }
   ],
   "source": [
    "best_grid.fit(X_train,y_train)"
   ]
  },
  {
   "cell_type": "code",
   "execution_count": 35,
   "metadata": {},
   "outputs": [],
   "source": [
    "preds_y=best_grid.predict(X_test)"
   ]
  },
  {
   "cell_type": "code",
   "execution_count": 36,
   "metadata": {},
   "outputs": [
    {
     "name": "stdout",
     "output_type": "stream",
     "text": [
      "              precision    recall  f1-score   support\n",
      "\n",
      "         0.0       0.80      0.85      0.82        97\n",
      "         1.0       0.71      0.63      0.67        57\n",
      "\n",
      "    accuracy                           0.77       154\n",
      "   macro avg       0.75      0.74      0.74       154\n",
      "weighted avg       0.76      0.77      0.76       154\n",
      "\n"
     ]
    }
   ],
   "source": [
    "print(classification_report(y_test,preds_y))"
   ]
  },
  {
   "cell_type": "code",
   "execution_count": 37,
   "metadata": {},
   "outputs": [],
   "source": [
    "space={'criterion':hp.choice('criterion',['gini','entropy']),\n",
    "       'n_estimators':hp.choice('n_estimators',[10,50,100,200,500,1000]),\n",
    "       'max_depth':hp.quniform('max_depth',10,1500,15),\n",
    "       'max_features':hp.choice('max_features',['auto','sqrt','log',None]),\n",
    "       'min_samples_split':hp.uniform('min_samples_split',0,1),\n",
    "       'min_samples_leaf':hp.uniform('min_samples_leaf',0,0.8)\n",
    "      \n",
    "      }"
   ]
  },
  {
   "cell_type": "code",
   "execution_count": 38,
   "metadata": {},
   "outputs": [
    {
     "data": {
      "text/plain": [
       "{'criterion': <hyperopt.pyll.base.Apply at 0x25b3b617610>,\n",
       " 'n_estimators': <hyperopt.pyll.base.Apply at 0x25b3b583160>,\n",
       " 'max_depth': <hyperopt.pyll.base.Apply at 0x25b3b58ec10>,\n",
       " 'max_features': <hyperopt.pyll.base.Apply at 0x25b3b5a2af0>,\n",
       " 'min_samples_split': <hyperopt.pyll.base.Apply at 0x25b3b626790>,\n",
       " 'min_samples_leaf': <hyperopt.pyll.base.Apply at 0x25b3b626700>}"
      ]
     },
     "execution_count": 38,
     "metadata": {},
     "output_type": "execute_result"
    }
   ],
   "source": [
    "space"
   ]
  },
  {
   "cell_type": "code",
   "execution_count": null,
   "metadata": {},
   "outputs": [],
   "source": []
  },
  {
   "cell_type": "code",
   "execution_count": 39,
   "metadata": {},
   "outputs": [],
   "source": [
    "def objective(space):\n",
    "    model=RandomForestClassifier(criterion=space['criterion'],n_estimators=space['n_estimators'],max_depth=space['max_depth'],max_features=space['max_features'],min_samples_split=space['min_samples_split'],min_samples_leaf=space['min_samples_leaf'])\n",
    "    accuracy=cross_val_score(model,X_train,y_train,cv=5).mean()\n",
    "    return {'loss': -accuracy,'status':STATUS_OK}\n",
    "    \n",
    "    "
   ]
  },
  {
   "cell_type": "code",
   "execution_count": 40,
   "metadata": {},
   "outputs": [
    {
     "name": "stdout",
     "output_type": "stream",
     "text": [
      "100%|███████████████████████████████████████████████| 80/80 [02:10<00:00,  1.63s/trial, best loss: -0.7504198320671731]\n"
     ]
    }
   ],
   "source": [
    "trials=Trials()\n",
    "best=fmin(fn=objective,space=space,algo=tpe.suggest,max_evals=80,trials=trials,verbose=True)\n"
   ]
  },
  {
   "cell_type": "code",
   "execution_count": 23,
   "metadata": {},
   "outputs": [],
   "source": [
    "from tpot import TPOTClassifier\n",
    "n_estimators=np.linspace(10,1000,num=100).astype(np.int64)\n",
    "max_depth=np.linspace(1,100,num=100)\n",
    "min_samples_split=[1,5,10,20,50]\n",
    "max_features=['auto','sqrt','log2']\n",
    "criterion=['gini','entropy']\n",
    "min_samples_leaf=[1,5,10,15,20]\n",
    "param_grid={'n_estimators':n_estimators,\n",
    "            'max_depth':max_depth,\n",
    "            'min_samples_split':min_samples_split,\n",
    "            'max_features':max_features,\n",
    "            'criterion':criterion,\n",
    "            'min_samples_leaf':min_samples_leaf\n",
    "           \n",
    "           }"
   ]
  },
  {
   "cell_type": "code",
   "execution_count": 24,
   "metadata": {},
   "outputs": [
    {
     "data": {
      "application/vnd.jupyter.widget-view+json": {
       "model_id": "",
       "version_major": 2,
       "version_minor": 0
      },
      "text/plain": [
       "HBox(children=(HTML(value='Optimization Progress'), FloatProgress(value=0.0, max=140.0), HTML(value='')))"
      ]
     },
     "metadata": {},
     "output_type": "display_data"
    },
    {
     "name": "stdout",
     "output_type": "stream",
     "text": [
      "\n",
      "Generation 1 - Current best internal CV score: 0.758576569372251\n",
      "\n",
      "Generation 2 - Current best internal CV score: 0.758576569372251\n",
      "\n",
      "Generation 3 - Current best internal CV score: 0.758576569372251\n",
      "\n",
      "Generation 4 - Current best internal CV score: 0.758576569372251\n",
      "\n",
      "Generation 5 - Current best internal CV score: 0.758576569372251\n",
      "\n",
      "Best pipeline: RandomForestClassifier(RandomForestClassifier(input_matrix, criterion=gini, max_depth=2.0, max_features=auto, min_samples_leaf=15, min_samples_split=5, n_estimators=460), criterion=entropy, max_depth=86.0, max_features=auto, min_samples_leaf=1, min_samples_split=50, n_estimators=970)\n"
     ]
    },
    {
     "data": {
      "text/plain": [
       "TPOTClassifier(config_dict={'sklearn.ensemble.RandomForestClassifier': {'criterion': ['gini',\n",
       "                                                                                      'entropy'],\n",
       "                                                                        'max_depth': array([  1.,   2.,   3.,   4.,   5.,   6.,   7.,   8.,   9.,  10.,  11.,\n",
       "        12.,  13.,  14.,  15.,  16.,  17.,  18.,  19.,  20.,  21.,  22.,\n",
       "        23.,  24.,  25.,  26.,  27.,  28.,  29.,  30.,  31.,  32.,  33.,\n",
       "        34.,  35.,  36.,  37.,  38.,  39.,  40.,  41.,  42.,  43.,  44.,\n",
       "        45.,  46.,  47.,  48.,  49.,  50.,  51.,  52.,  53.,  54.,  55.,\n",
       "        56.,  57.,  58.,  59.,  60...\n",
       "        340,  350,  360,  370,  380,  390,  400,  410,  420,  430,  440,\n",
       "        450,  460,  470,  480,  490,  500,  510,  520,  530,  540,  550,\n",
       "        560,  570,  580,  590,  600,  610,  620,  630,  640,  650,  660,\n",
       "        670,  680,  690,  700,  710,  720,  730,  740,  750,  760,  770,\n",
       "        780,  790,  800,  810,  820,  830,  840,  850,  860,  870,  880,\n",
       "        890,  900,  910,  920,  930,  940,  950,  960,  970,  980,  990,\n",
       "       1000], dtype=int64)}},\n",
       "               early_stop=12, generations=5, n_jobs=-1, offspring_size=20,\n",
       "               population_size=40, scoring='accuracy', verbosity=2)"
      ]
     },
     "execution_count": 24,
     "metadata": {},
     "output_type": "execute_result"
    }
   ],
   "source": [
    "clf=TPOTClassifier(generations=5,population_size=40,offspring_size=20,scoring='accuracy',cv=5,n_jobs=-1,config_dict={'sklearn.ensemble.RandomForestClassifier':param_grid},early_stop=12,verbosity=2)\n",
    "clf.fit(X_train,y_train)"
   ]
  },
  {
   "cell_type": "code",
   "execution_count": 28,
   "metadata": {},
   "outputs": [],
   "source": [
    "import optuna"
   ]
  },
  {
   "cell_type": "code",
   "execution_count": 38,
   "metadata": {},
   "outputs": [],
   "source": [
    "def objective(trial):\n",
    "    classifier=trial.suggest_categorical('classifier',['RandomForest','SVC'])\n",
    "    if classifier=='RandomForest':\n",
    "        n_estimators=trial.suggest_int('n_estimators',10,1000,100)\n",
    "        max_depth=trial.suggest_int('max_depth',1,100,log=True)\n",
    "        criterion=trial.suggest_categorical('criterion',['gini','entropy'])\n",
    "        clf=RandomForestClassifier(n_estimators=n_estimators,criterion=criterion,max_depth=max_depth)\n",
    "        \n",
    "    else:\n",
    "        c=trial.suggest_float('svc_c',1e-10,1e10,log=True)\n",
    "        clf=SVC(C=c,gamma='auto')\n",
    "    return cross_val_score(clf,X_train,y_train,cv=5,n_jobs=-1).mean()\n",
    "    "
   ]
  },
  {
   "cell_type": "code",
   "execution_count": 39,
   "metadata": {},
   "outputs": [
    {
     "name": "stderr",
     "output_type": "stream",
     "text": [
      "\u001b[32m[I 2020-12-17 17:54:33,573]\u001b[0m A new study created in memory with name: no-name-4898ff91-e2f4-417d-9d8d-bf043825745b\u001b[0m\n",
      "\u001b[32m[I 2020-12-17 17:54:37,574]\u001b[0m Trial 0 finished with value: 0.6574170331867253 and parameters: {'classifier': 'SVC', 'svc_c': 2.8696318269144784e-09}. Best is trial 0 with value: 0.6574170331867253.\u001b[0m\n",
      "\u001b[32m[I 2020-12-17 17:54:37,676]\u001b[0m Trial 1 finished with value: 0.6574170331867253 and parameters: {'classifier': 'SVC', 'svc_c': 6907738859.1498}. Best is trial 0 with value: 0.6574170331867253.\u001b[0m\n",
      "\u001b[32m[I 2020-12-17 17:54:38,537]\u001b[0m Trial 2 finished with value: 0.7422364387578302 and parameters: {'classifier': 'RandomForest', 'n_estimators': 110, 'max_depth': 3, 'criterion': 'gini'}. Best is trial 2 with value: 0.7422364387578302.\u001b[0m\n",
      "\u001b[32m[I 2020-12-17 17:54:38,701]\u001b[0m Trial 3 finished with value: 0.6574170331867253 and parameters: {'classifier': 'SVC', 'svc_c': 10944856.037614321}. Best is trial 2 with value: 0.7422364387578302.\u001b[0m\n",
      "\u001b[32m[I 2020-12-17 17:54:41,173]\u001b[0m Trial 4 finished with value: 0.7324270291883246 and parameters: {'classifier': 'RandomForest', 'n_estimators': 410, 'max_depth': 2, 'criterion': 'gini'}. Best is trial 2 with value: 0.7422364387578302.\u001b[0m\n",
      "\u001b[32m[I 2020-12-17 17:54:41,278]\u001b[0m Trial 5 finished with value: 0.6574170331867253 and parameters: {'classifier': 'SVC', 'svc_c': 3861.009000572554}. Best is trial 2 with value: 0.7422364387578302.\u001b[0m\n",
      "\u001b[32m[I 2020-12-17 17:54:44,169]\u001b[0m Trial 6 finished with value: 0.7356657337065174 and parameters: {'classifier': 'RandomForest', 'n_estimators': 410, 'max_depth': 84, 'criterion': 'gini'}. Best is trial 2 with value: 0.7422364387578302.\u001b[0m\n",
      "\u001b[32m[I 2020-12-17 17:54:44,337]\u001b[0m Trial 7 finished with value: 0.7471278155404504 and parameters: {'classifier': 'RandomForest', 'n_estimators': 10, 'max_depth': 6, 'criterion': 'entropy'}. Best is trial 7 with value: 0.7471278155404504.\u001b[0m\n",
      "\u001b[32m[I 2020-12-17 17:54:44,433]\u001b[0m Trial 8 finished with value: 0.6574170331867253 and parameters: {'classifier': 'SVC', 'svc_c': 1331117.0220375352}. Best is trial 7 with value: 0.7471278155404504.\u001b[0m\n",
      "\u001b[32m[I 2020-12-17 17:54:49,080]\u001b[0m Trial 9 finished with value: 0.7389177662268427 and parameters: {'classifier': 'RandomForest', 'n_estimators': 610, 'max_depth': 14, 'criterion': 'entropy'}. Best is trial 7 with value: 0.7471278155404504.\u001b[0m\n",
      "\u001b[32m[I 2020-12-17 17:54:49,992]\u001b[0m Trial 10 finished with value: 0.7503798480607756 and parameters: {'classifier': 'RandomForest', 'n_estimators': 110, 'max_depth': 19, 'criterion': 'entropy'}. Best is trial 10 with value: 0.7503798480607756.\u001b[0m\n",
      "\u001b[32m[I 2020-12-17 17:54:50,107]\u001b[0m Trial 11 finished with value: 0.7275623084099693 and parameters: {'classifier': 'RandomForest', 'n_estimators': 10, 'max_depth': 19, 'criterion': 'entropy'}. Best is trial 10 with value: 0.7503798480607756.\u001b[0m\n",
      "\u001b[32m[I 2020-12-17 17:54:50,225]\u001b[0m Trial 12 finished with value: 0.7454751432760229 and parameters: {'classifier': 'RandomForest', 'n_estimators': 10, 'max_depth': 42, 'criterion': 'entropy'}. Best is trial 10 with value: 0.7503798480607756.\u001b[0m\n",
      "\u001b[32m[I 2020-12-17 17:54:51,582]\u001b[0m Trial 13 finished with value: 0.660682393709183 and parameters: {'classifier': 'RandomForest', 'n_estimators': 210, 'max_depth': 1, 'criterion': 'entropy'}. Best is trial 10 with value: 0.7503798480607756.\u001b[0m\n",
      "\u001b[32m[I 2020-12-17 17:54:53,060]\u001b[0m Trial 14 finished with value: 0.7487405037984807 and parameters: {'classifier': 'RandomForest', 'n_estimators': 210, 'max_depth': 7, 'criterion': 'entropy'}. Best is trial 10 with value: 0.7503798480607756.\u001b[0m\n",
      "\u001b[32m[I 2020-12-17 17:54:54,606]\u001b[0m Trial 15 finished with value: 0.7503798480607757 and parameters: {'classifier': 'RandomForest', 'n_estimators': 210, 'max_depth': 10, 'criterion': 'entropy'}. Best is trial 15 with value: 0.7503798480607757.\u001b[0m\n",
      "\u001b[32m[I 2020-12-17 17:54:57,187]\u001b[0m Trial 16 finished with value: 0.7503398640543782 and parameters: {'classifier': 'RandomForest', 'n_estimators': 310, 'max_depth': 27, 'criterion': 'entropy'}. Best is trial 15 with value: 0.7503798480607757.\u001b[0m\n",
      "\u001b[32m[I 2020-12-17 17:55:02,455]\u001b[0m Trial 17 finished with value: 0.7536185525789684 and parameters: {'classifier': 'RandomForest', 'n_estimators': 710, 'max_depth': 84, 'criterion': 'entropy'}. Best is trial 17 with value: 0.7536185525789684.\u001b[0m\n",
      "\u001b[32m[I 2020-12-17 17:55:09,769]\u001b[0m Trial 18 finished with value: 0.7438224710115954 and parameters: {'classifier': 'RandomForest', 'n_estimators': 910, 'max_depth': 88, 'criterion': 'entropy'}. Best is trial 17 with value: 0.7536185525789684.\u001b[0m\n",
      "\u001b[32m[I 2020-12-17 17:55:14,279]\u001b[0m Trial 19 finished with value: 0.6655471144875382 and parameters: {'classifier': 'RandomForest', 'n_estimators': 710, 'max_depth': 1, 'criterion': 'entropy'}. Best is trial 17 with value: 0.7536185525789684.\u001b[0m\n",
      "\u001b[32m[I 2020-12-17 17:55:21,177]\u001b[0m Trial 20 finished with value: 0.7438357990137278 and parameters: {'classifier': 'RandomForest', 'n_estimators': 910, 'max_depth': 42, 'criterion': 'entropy'}. Best is trial 17 with value: 0.7536185525789684.\u001b[0m\n",
      "\u001b[32m[I 2020-12-17 17:55:25,999]\u001b[0m Trial 21 finished with value: 0.7422097827535652 and parameters: {'classifier': 'RandomForest', 'n_estimators': 610, 'max_depth': 11, 'criterion': 'entropy'}. Best is trial 17 with value: 0.7536185525789684.\u001b[0m\n",
      "\u001b[32m[I 2020-12-17 17:55:27,553]\u001b[0m Trial 22 finished with value: 0.7340797014527523 and parameters: {'classifier': 'RandomForest', 'n_estimators': 210, 'max_depth': 3, 'criterion': 'entropy'}. Best is trial 17 with value: 0.7536185525789684.\u001b[0m\n",
      "\u001b[32m[I 2020-12-17 17:55:32,843]\u001b[0m Trial 23 finished with value: 0.7454618152738905 and parameters: {'classifier': 'RandomForest', 'n_estimators': 710, 'max_depth': 43, 'criterion': 'entropy'}. Best is trial 17 with value: 0.7536185525789684.\u001b[0m\n",
      "\u001b[32m[I 2020-12-17 17:55:33,748]\u001b[0m Trial 24 finished with value: 0.753551912568306 and parameters: {'classifier': 'RandomForest', 'n_estimators': 110, 'max_depth': 23, 'criterion': 'entropy'}. Best is trial 17 with value: 0.7536185525789684.\u001b[0m\n",
      "\u001b[32m[I 2020-12-17 17:55:37,625]\u001b[0m Trial 25 finished with value: 0.7340530454484873 and parameters: {'classifier': 'RandomForest', 'n_estimators': 510, 'max_depth': 93, 'criterion': 'entropy'}. Best is trial 17 with value: 0.7536185525789684.\u001b[0m\n",
      "\u001b[32m[I 2020-12-17 17:55:44,117]\u001b[0m Trial 26 finished with value: 0.7438091430094629 and parameters: {'classifier': 'RandomForest', 'n_estimators': 810, 'max_depth': 10, 'criterion': 'entropy'}. Best is trial 17 with value: 0.7536185525789684.\u001b[0m\n",
      "\u001b[32m[I 2020-12-17 17:55:46,241]\u001b[0m Trial 27 finished with value: 0.7536052245768359 and parameters: {'classifier': 'RandomForest', 'n_estimators': 310, 'max_depth': 29, 'criterion': 'gini'}. Best is trial 17 with value: 0.7536185525789684.\u001b[0m\n",
      "\u001b[32m[I 2020-12-17 17:55:49,762]\u001b[0m Trial 28 finished with value: 0.7389177662268426 and parameters: {'classifier': 'RandomForest', 'n_estimators': 510, 'max_depth': 50, 'criterion': 'gini'}. Best is trial 17 with value: 0.7536185525789684.\u001b[0m\n",
      "\u001b[32m[I 2020-12-17 17:55:49,895]\u001b[0m Trial 29 finished with value: 0.6574170331867253 and parameters: {'classifier': 'SVC', 'svc_c': 8.761919953010504e-07}. Best is trial 17 with value: 0.7536185525789684.\u001b[0m\n",
      "\u001b[32m[I 2020-12-17 17:55:52,069]\u001b[0m Trial 30 finished with value: 0.7454751432760229 and parameters: {'classifier': 'RandomForest', 'n_estimators': 310, 'max_depth': 28, 'criterion': 'gini'}. Best is trial 17 with value: 0.7536185525789684.\u001b[0m\n",
      "\u001b[32m[I 2020-12-17 17:55:54,259]\u001b[0m Trial 31 finished with value: 0.7503265360522458 and parameters: {'classifier': 'RandomForest', 'n_estimators': 310, 'max_depth': 20, 'criterion': 'gini'}. Best is trial 17 with value: 0.7536185525789684.\u001b[0m\n",
      "\u001b[32m[I 2020-12-17 17:55:55,074]\u001b[0m Trial 32 finished with value: 0.7439024390243902 and parameters: {'classifier': 'RandomForest', 'n_estimators': 110, 'max_depth': 56, 'criterion': 'gini'}. Best is trial 17 with value: 0.7536185525789684.\u001b[0m\n",
      "\u001b[32m[I 2020-12-17 17:55:56,537]\u001b[0m Trial 33 finished with value: 0.7503798480607757 and parameters: {'classifier': 'RandomForest', 'n_estimators': 210, 'max_depth': 6, 'criterion': 'gini'}. Best is trial 17 with value: 0.7536185525789684.\u001b[0m\n"
     ]
    },
    {
     "name": "stderr",
     "output_type": "stream",
     "text": [
      "\u001b[32m[I 2020-12-17 17:55:58,551]\u001b[0m Trial 34 finished with value: 0.7487538318006131 and parameters: {'classifier': 'RandomForest', 'n_estimators': 310, 'max_depth': 4, 'criterion': 'gini'}. Best is trial 17 with value: 0.7536185525789684.\u001b[0m\n",
      "\u001b[32m[I 2020-12-17 17:55:58,646]\u001b[0m Trial 35 finished with value: 0.6574170331867253 and parameters: {'classifier': 'SVC', 'svc_c': 0.0033781862379100845}. Best is trial 17 with value: 0.7536185525789684.\u001b[0m\n",
      "\u001b[32m[I 2020-12-17 17:55:59,430]\u001b[0m Trial 36 finished with value: 0.7552978808476609 and parameters: {'classifier': 'RandomForest', 'n_estimators': 110, 'max_depth': 5, 'criterion': 'gini'}. Best is trial 36 with value: 0.7552978808476609.\u001b[0m\n",
      "\u001b[32m[I 2020-12-17 17:56:00,121]\u001b[0m Trial 37 finished with value: 0.7323870451819273 and parameters: {'classifier': 'RandomForest', 'n_estimators': 110, 'max_depth': 2, 'criterion': 'gini'}. Best is trial 36 with value: 0.7552978808476609.\u001b[0m\n",
      "\u001b[32m[I 2020-12-17 17:56:00,298]\u001b[0m Trial 38 finished with value: 0.6574170331867253 and parameters: {'classifier': 'SVC', 'svc_c': 4.633768942097618}. Best is trial 36 with value: 0.7552978808476609.\u001b[0m\n",
      "\u001b[32m[I 2020-12-17 17:56:00,401]\u001b[0m Trial 39 finished with value: 0.7324803411968547 and parameters: {'classifier': 'RandomForest', 'n_estimators': 10, 'max_depth': 68, 'criterion': 'gini'}. Best is trial 36 with value: 0.7552978808476609.\u001b[0m\n",
      "\u001b[32m[I 2020-12-17 17:56:01,178]\u001b[0m Trial 40 finished with value: 0.7438357990137278 and parameters: {'classifier': 'RandomForest', 'n_estimators': 110, 'max_depth': 28, 'criterion': 'gini'}. Best is trial 36 with value: 0.7552978808476609.\u001b[0m\n",
      "\u001b[32m[I 2020-12-17 17:56:02,624]\u001b[0m Trial 41 finished with value: 0.7601359456217514 and parameters: {'classifier': 'RandomForest', 'n_estimators': 210, 'max_depth': 5, 'criterion': 'gini'}. Best is trial 41 with value: 0.7601359456217514.\u001b[0m\n",
      "\u001b[32m[I 2020-12-17 17:56:05,398]\u001b[0m Trial 42 finished with value: 0.7569238971078235 and parameters: {'classifier': 'RandomForest', 'n_estimators': 410, 'max_depth': 5, 'criterion': 'gini'}. Best is trial 41 with value: 0.7601359456217514.\u001b[0m\n",
      "\u001b[32m[I 2020-12-17 17:56:08,211]\u001b[0m Trial 43 finished with value: 0.7552712248433959 and parameters: {'classifier': 'RandomForest', 'n_estimators': 410, 'max_depth': 4, 'criterion': 'gini'}. Best is trial 41 with value: 0.7601359456217514.\u001b[0m\n",
      "\u001b[32m[I 2020-12-17 17:56:10,828]\u001b[0m Trial 44 finished with value: 0.7601626016260162 and parameters: {'classifier': 'RandomForest', 'n_estimators': 410, 'max_depth': 4, 'criterion': 'gini'}. Best is trial 44 with value: 0.7601626016260162.\u001b[0m\n",
      "\u001b[32m[I 2020-12-17 17:56:13,441]\u001b[0m Trial 45 finished with value: 0.7601626016260162 and parameters: {'classifier': 'RandomForest', 'n_estimators': 410, 'max_depth': 4, 'criterion': 'gini'}. Best is trial 44 with value: 0.7601626016260162.\u001b[0m\n",
      "\u001b[32m[I 2020-12-17 17:56:16,056]\u001b[0m Trial 46 finished with value: 0.7568839131014261 and parameters: {'classifier': 'RandomForest', 'n_estimators': 410, 'max_depth': 4, 'criterion': 'gini'}. Best is trial 44 with value: 0.7601626016260162.\u001b[0m\n",
      "\u001b[32m[I 2020-12-17 17:56:18,502]\u001b[0m Trial 47 finished with value: 0.7291350126616021 and parameters: {'classifier': 'RandomForest', 'n_estimators': 410, 'max_depth': 2, 'criterion': 'gini'}. Best is trial 44 with value: 0.7601626016260162.\u001b[0m\n",
      "\u001b[32m[I 2020-12-17 17:56:18,580]\u001b[0m Trial 48 finished with value: 0.6574170331867253 and parameters: {'classifier': 'SVC', 'svc_c': 0.00017185052960652834}. Best is trial 44 with value: 0.7601626016260162.\u001b[0m\n",
      "\u001b[32m[I 2020-12-17 17:56:21,026]\u001b[0m Trial 49 finished with value: 0.7356923897107823 and parameters: {'classifier': 'RandomForest', 'n_estimators': 410, 'max_depth': 2, 'criterion': 'gini'}. Best is trial 44 with value: 0.7601626016260162.\u001b[0m\n",
      "\u001b[32m[I 2020-12-17 17:56:24,251]\u001b[0m Trial 50 finished with value: 0.7422231107556978 and parameters: {'classifier': 'RandomForest', 'n_estimators': 510, 'max_depth': 3, 'criterion': 'gini'}. Best is trial 44 with value: 0.7601626016260162.\u001b[0m\n",
      "\u001b[32m[I 2020-12-17 17:56:26,958]\u001b[0m Trial 51 finished with value: 0.7536585365853659 and parameters: {'classifier': 'RandomForest', 'n_estimators': 410, 'max_depth': 5, 'criterion': 'gini'}. Best is trial 44 with value: 0.7601626016260162.\u001b[0m\n",
      "\u001b[32m[I 2020-12-17 17:56:30,202]\u001b[0m Trial 52 finished with value: 0.7568839131014261 and parameters: {'classifier': 'RandomForest', 'n_estimators': 510, 'max_depth': 4, 'criterion': 'gini'}. Best is trial 44 with value: 0.7601626016260162.\u001b[0m\n",
      "\u001b[32m[I 2020-12-17 17:56:33,181]\u001b[0m Trial 53 finished with value: 0.6753698520591763 and parameters: {'classifier': 'RandomForest', 'n_estimators': 510, 'max_depth': 1, 'criterion': 'gini'}. Best is trial 44 with value: 0.7601626016260162.\u001b[0m\n",
      "\u001b[32m[I 2020-12-17 17:56:36,765]\u001b[0m Trial 54 finished with value: 0.6720911635345861 and parameters: {'classifier': 'RandomForest', 'n_estimators': 610, 'max_depth': 1, 'criterion': 'gini'}. Best is trial 44 with value: 0.7601626016260162.\u001b[0m\n",
      "\u001b[32m[I 2020-12-17 17:56:39,308]\u001b[0m Trial 55 finished with value: 0.747114487538318 and parameters: {'classifier': 'RandomForest', 'n_estimators': 410, 'max_depth': 4, 'criterion': 'gini'}. Best is trial 44 with value: 0.7601626016260162.\u001b[0m\n",
      "\u001b[32m[I 2020-12-17 17:56:42,790]\u001b[0m Trial 56 finished with value: 0.7422630947620952 and parameters: {'classifier': 'RandomForest', 'n_estimators': 510, 'max_depth': 8, 'criterion': 'gini'}. Best is trial 44 with value: 0.7601626016260162.\u001b[0m\n",
      "\u001b[32m[I 2020-12-17 17:56:46,492]\u001b[0m Trial 57 finished with value: 0.7438091430094629 and parameters: {'classifier': 'RandomForest', 'n_estimators': 610, 'max_depth': 3, 'criterion': 'gini'}. Best is trial 44 with value: 0.7601626016260162.\u001b[0m\n",
      "\u001b[32m[I 2020-12-17 17:56:48,851]\u001b[0m Trial 58 finished with value: 0.6802878848460615 and parameters: {'classifier': 'RandomForest', 'n_estimators': 410, 'max_depth': 1, 'criterion': 'gini'}. Best is trial 44 with value: 0.7601626016260162.\u001b[0m\n",
      "\u001b[32m[I 2020-12-17 17:56:50,671]\u001b[0m Trial 59 finished with value: 0.676995868319339 and parameters: {'classifier': 'RandomForest', 'n_estimators': 310, 'max_depth': 1, 'criterion': 'gini'}. Best is trial 44 with value: 0.7601626016260162.\u001b[0m\n",
      "\u001b[32m[I 2020-12-17 17:56:53,768]\u001b[0m Trial 60 finished with value: 0.7324137011861922 and parameters: {'classifier': 'RandomForest', 'n_estimators': 510, 'max_depth': 2, 'criterion': 'gini'}. Best is trial 44 with value: 0.7601626016260162.\u001b[0m\n",
      "\u001b[32m[I 2020-12-17 17:56:56,499]\u001b[0m Trial 61 finished with value: 0.7650539784086365 and parameters: {'classifier': 'RandomForest', 'n_estimators': 410, 'max_depth': 5, 'criterion': 'gini'}. Best is trial 61 with value: 0.7650539784086365.\u001b[0m\n",
      "\u001b[32m[I 2020-12-17 17:56:59,515]\u001b[0m Trial 62 finished with value: 0.747141143542583 and parameters: {'classifier': 'RandomForest', 'n_estimators': 410, 'max_depth': 7, 'criterion': 'gini'}. Best is trial 61 with value: 0.7650539784086365.\u001b[0m\n",
      "\u001b[32m[I 2020-12-17 17:57:02,746]\u001b[0m Trial 63 finished with value: 0.7389444222311077 and parameters: {'classifier': 'RandomForest', 'n_estimators': 510, 'max_depth': 3, 'criterion': 'gini'}. Best is trial 61 with value: 0.7650539784086365.\u001b[0m\n",
      "\u001b[32m[I 2020-12-17 17:57:04,523]\u001b[0m Trial 64 finished with value: 0.6753565240570439 and parameters: {'classifier': 'RandomForest', 'n_estimators': 310, 'max_depth': 1, 'criterion': 'gini'}. Best is trial 61 with value: 0.7650539784086365.\u001b[0m\n",
      "\u001b[32m[I 2020-12-17 17:57:07,232]\u001b[0m Trial 65 finished with value: 0.7520191923230707 and parameters: {'classifier': 'RandomForest', 'n_estimators': 410, 'max_depth': 5, 'criterion': 'gini'}. Best is trial 61 with value: 0.7650539784086365.\u001b[0m\n",
      "\u001b[32m[I 2020-12-17 17:57:10,843]\u001b[0m Trial 66 finished with value: 0.6753698520591763 and parameters: {'classifier': 'RandomForest', 'n_estimators': 610, 'max_depth': 1, 'criterion': 'gini'}. Best is trial 61 with value: 0.7650539784086365.\u001b[0m\n",
      "\u001b[32m[I 2020-12-17 17:57:12,672]\u001b[0m Trial 67 finished with value: 0.7340397174463548 and parameters: {'classifier': 'RandomForest', 'n_estimators': 310, 'max_depth': 2, 'criterion': 'gini'}. Best is trial 61 with value: 0.7650539784086365.\u001b[0m\n"
     ]
    },
    {
     "name": "stderr",
     "output_type": "stream",
     "text": [
      "\u001b[32m[I 2020-12-17 17:57:15,187]\u001b[0m Trial 68 finished with value: 0.7422097827535652 and parameters: {'classifier': 'RandomForest', 'n_estimators': 410, 'max_depth': 3, 'criterion': 'gini'}. Best is trial 61 with value: 0.7650539784086365.\u001b[0m\n",
      "\u001b[32m[I 2020-12-17 17:57:18,715]\u001b[0m Trial 69 finished with value: 0.7438624550179929 and parameters: {'classifier': 'RandomForest', 'n_estimators': 510, 'max_depth': 9, 'criterion': 'gini'}. Best is trial 61 with value: 0.7650539784086365.\u001b[0m\n",
      "\u001b[32m[I 2020-12-17 17:57:20,158]\u001b[0m Trial 70 finished with value: 0.7519658803145408 and parameters: {'classifier': 'RandomForest', 'n_estimators': 210, 'max_depth': 13, 'criterion': 'gini'}. Best is trial 61 with value: 0.7650539784086365.\u001b[0m\n",
      "\u001b[32m[I 2020-12-17 17:57:20,270]\u001b[0m Trial 71 finished with value: 0.7716246834599493 and parameters: {'classifier': 'RandomForest', 'n_estimators': 10, 'max_depth': 5, 'criterion': 'gini'}. Best is trial 71 with value: 0.7716246834599493.\u001b[0m\n",
      "\u001b[32m[I 2020-12-17 17:57:22,309]\u001b[0m Trial 72 finished with value: 0.7520191923230707 and parameters: {'classifier': 'RandomForest', 'n_estimators': 310, 'max_depth': 6, 'criterion': 'gini'}. Best is trial 71 with value: 0.7716246834599493.\u001b[0m\n",
      "\u001b[32m[I 2020-12-17 17:57:24,872]\u001b[0m Trial 73 finished with value: 0.7536452085832334 and parameters: {'classifier': 'RandomForest', 'n_estimators': 410, 'max_depth': 4, 'criterion': 'gini'}. Best is trial 71 with value: 0.7716246834599493.\u001b[0m\n",
      "\u001b[32m[I 2020-12-17 17:57:24,993]\u001b[0m Trial 74 finished with value: 0.7390110622417699 and parameters: {'classifier': 'RandomForest', 'n_estimators': 10, 'max_depth': 2, 'criterion': 'gini'}. Best is trial 71 with value: 0.7716246834599493.\u001b[0m\n",
      "\u001b[32m[I 2020-12-17 17:57:26,351]\u001b[0m Trial 75 finished with value: 0.7307743569238971 and parameters: {'classifier': 'RandomForest', 'n_estimators': 210, 'max_depth': 2, 'criterion': 'gini'}. Best is trial 71 with value: 0.7716246834599493.\u001b[0m\n",
      "\u001b[32m[I 2020-12-17 17:57:29,835]\u001b[0m Trial 76 finished with value: 0.7602025856324136 and parameters: {'classifier': 'RandomForest', 'n_estimators': 510, 'max_depth': 6, 'criterion': 'gini'}. Best is trial 71 with value: 0.7716246834599493.\u001b[0m\n",
      "\u001b[32m[I 2020-12-17 17:57:29,945]\u001b[0m Trial 77 finished with value: 0.6574170331867253 and parameters: {'classifier': 'SVC', 'svc_c': 1.7809287260448375e-10}. Best is trial 71 with value: 0.7716246834599493.\u001b[0m\n",
      "\u001b[32m[I 2020-12-17 17:57:33,576]\u001b[0m Trial 78 finished with value: 0.7275223244035718 and parameters: {'classifier': 'RandomForest', 'n_estimators': 610, 'max_depth': 2, 'criterion': 'gini'}. Best is trial 71 with value: 0.7716246834599493.\u001b[0m\n",
      "\u001b[32m[I 2020-12-17 17:57:36,592]\u001b[0m Trial 79 finished with value: 0.7275356524057044 and parameters: {'classifier': 'RandomForest', 'n_estimators': 510, 'max_depth': 2, 'criterion': 'gini'}. Best is trial 71 with value: 0.7716246834599493.\u001b[0m\n"
     ]
    }
   ],
   "source": [
    "study=optuna.create_study(direction='maximize')\n",
    "study.optimize(objective,n_trials=80)\n",
    "trial=study.best_trial"
   ]
  },
  {
   "cell_type": "code",
   "execution_count": 43,
   "metadata": {},
   "outputs": [
    {
     "name": "stdout",
     "output_type": "stream",
     "text": [
      "Accuracy:0.7716246834599493\n",
      "Best Parameters{'classifier': 'RandomForest', 'n_estimators': 10, 'max_depth': 5, 'criterion': 'gini'}\n"
     ]
    }
   ],
   "source": [
    "print('Accuracy:{}'.format(trial.value))\n",
    "print('Best Parameters{}'.format(trial.params))"
   ]
  },
  {
   "cell_type": "code",
   "execution_count": 44,
   "metadata": {},
   "outputs": [
    {
     "data": {
      "text/plain": [
       "{'classifier': 'RandomForest',\n",
       " 'n_estimators': 10,\n",
       " 'max_depth': 5,\n",
       " 'criterion': 'gini'}"
      ]
     },
     "execution_count": 44,
     "metadata": {},
     "output_type": "execute_result"
    }
   ],
   "source": [
    "study.best_params"
   ]
  },
  {
   "cell_type": "code",
   "execution_count": 45,
   "metadata": {},
   "outputs": [],
   "source": [
    "rf=RandomForestClassifier(n_estimators=10,max_depth=5,criterion='gini')"
   ]
  },
  {
   "cell_type": "code",
   "execution_count": 47,
   "metadata": {},
   "outputs": [
    {
     "data": {
      "text/plain": [
       "RandomForestClassifier(max_depth=5, n_estimators=10)"
      ]
     },
     "execution_count": 47,
     "metadata": {},
     "output_type": "execute_result"
    }
   ],
   "source": [
    "rf.fit(X_train,y_train)"
   ]
  },
  {
   "cell_type": "code",
   "execution_count": 48,
   "metadata": {},
   "outputs": [],
   "source": [
    "y_preds=rf.predict(X_test)"
   ]
  },
  {
   "cell_type": "code",
   "execution_count": 50,
   "metadata": {},
   "outputs": [
    {
     "name": "stdout",
     "output_type": "stream",
     "text": [
      "0.7402597402597403\n",
      "[[81 16]\n",
      " [24 33]]\n",
      "              precision    recall  f1-score   support\n",
      "\n",
      "         0.0       0.77      0.84      0.80        97\n",
      "         1.0       0.67      0.58      0.62        57\n",
      "\n",
      "    accuracy                           0.74       154\n",
      "   macro avg       0.72      0.71      0.71       154\n",
      "weighted avg       0.74      0.74      0.74       154\n",
      "\n"
     ]
    }
   ],
   "source": [
    "print(accuracy_score(y_test,y_preds))\n",
    "print(confusion_matrix(y_test,y_preds))\n",
    "print(classification_report(y_test,y_preds))"
   ]
  },
  {
   "cell_type": "code",
   "execution_count": 56,
   "metadata": {},
   "outputs": [
    {
     "ename": "ImportError",
     "evalue": "Tried to import 'plotly' but failed. Please make sure that the package is installed correctly to use this feature. Actual error: No module named 'plotly'.",
     "output_type": "error",
     "traceback": [
      "\u001b[1;31m---------------------------------------------------------------------------\u001b[0m",
      "\u001b[1;31mModuleNotFoundError\u001b[0m                       Traceback (most recent call last)",
      "\u001b[1;32mc:\\mlprojects\\lib\\site-packages\\optuna\\visualization\\_plotly_imports.py\u001b[0m in \u001b[0;36m<module>\u001b[1;34m\u001b[0m\n\u001b[0;32m      6\u001b[0m \u001b[1;32mwith\u001b[0m \u001b[0mtry_import\u001b[0m\u001b[1;33m(\u001b[0m\u001b[1;33m)\u001b[0m \u001b[1;32mas\u001b[0m \u001b[0m_imports\u001b[0m\u001b[1;33m:\u001b[0m  \u001b[1;31m# NOQA\u001b[0m\u001b[1;33m\u001b[0m\u001b[1;33m\u001b[0m\u001b[0m\n\u001b[1;32m----> 7\u001b[1;33m     \u001b[1;32mimport\u001b[0m \u001b[0mplotly\u001b[0m  \u001b[1;31m# NOQA\u001b[0m\u001b[1;33m\u001b[0m\u001b[1;33m\u001b[0m\u001b[0m\n\u001b[0m\u001b[0;32m      8\u001b[0m     \u001b[1;32mfrom\u001b[0m \u001b[0mplotly\u001b[0m \u001b[1;32mimport\u001b[0m \u001b[0m__version__\u001b[0m \u001b[1;32mas\u001b[0m \u001b[0mplotly_version\u001b[0m\u001b[1;33m\u001b[0m\u001b[1;33m\u001b[0m\u001b[0m\n",
      "\u001b[1;31mModuleNotFoundError\u001b[0m: No module named 'plotly'",
      "\nThe above exception was the direct cause of the following exception:\n",
      "\u001b[1;31mImportError\u001b[0m                               Traceback (most recent call last)",
      "\u001b[1;32m<ipython-input-56-bb845c46c0a8>\u001b[0m in \u001b[0;36m<module>\u001b[1;34m\u001b[0m\n\u001b[1;32m----> 1\u001b[1;33m \u001b[0moptuna\u001b[0m\u001b[1;33m.\u001b[0m\u001b[0mvisualization\u001b[0m\u001b[1;33m.\u001b[0m\u001b[0mplot_slice\u001b[0m\u001b[1;33m(\u001b[0m\u001b[0mstudy\u001b[0m\u001b[1;33m)\u001b[0m\u001b[1;33m\u001b[0m\u001b[1;33m\u001b[0m\u001b[0m\n\u001b[0m",
      "\u001b[1;32mc:\\mlprojects\\lib\\site-packages\\optuna\\visualization\\_slice.py\u001b[0m in \u001b[0;36mplot_slice\u001b[1;34m(study, params)\u001b[0m\n\u001b[0;32m     60\u001b[0m     \"\"\"\n\u001b[0;32m     61\u001b[0m \u001b[1;33m\u001b[0m\u001b[0m\n\u001b[1;32m---> 62\u001b[1;33m     \u001b[0m_imports\u001b[0m\u001b[1;33m.\u001b[0m\u001b[0mcheck\u001b[0m\u001b[1;33m(\u001b[0m\u001b[1;33m)\u001b[0m\u001b[1;33m\u001b[0m\u001b[1;33m\u001b[0m\u001b[0m\n\u001b[0m\u001b[0;32m     63\u001b[0m     \u001b[1;32mreturn\u001b[0m \u001b[0m_get_slice_plot\u001b[0m\u001b[1;33m(\u001b[0m\u001b[0mstudy\u001b[0m\u001b[1;33m,\u001b[0m \u001b[0mparams\u001b[0m\u001b[1;33m)\u001b[0m\u001b[1;33m\u001b[0m\u001b[1;33m\u001b[0m\u001b[0m\n\u001b[0;32m     64\u001b[0m \u001b[1;33m\u001b[0m\u001b[0m\n",
      "\u001b[1;32mc:\\mlprojects\\lib\\site-packages\\optuna\\_imports.py\u001b[0m in \u001b[0;36mcheck\u001b[1;34m(self)\u001b[0m\n\u001b[0;32m     84\u001b[0m         \u001b[1;32mif\u001b[0m \u001b[0mself\u001b[0m\u001b[1;33m.\u001b[0m\u001b[0m_deferred\u001b[0m \u001b[1;32mis\u001b[0m \u001b[1;32mnot\u001b[0m \u001b[1;32mNone\u001b[0m\u001b[1;33m:\u001b[0m\u001b[1;33m\u001b[0m\u001b[1;33m\u001b[0m\u001b[0m\n\u001b[0;32m     85\u001b[0m             \u001b[0mexc_value\u001b[0m\u001b[1;33m,\u001b[0m \u001b[0mmessage\u001b[0m \u001b[1;33m=\u001b[0m \u001b[0mself\u001b[0m\u001b[1;33m.\u001b[0m\u001b[0m_deferred\u001b[0m\u001b[1;33m\u001b[0m\u001b[1;33m\u001b[0m\u001b[0m\n\u001b[1;32m---> 86\u001b[1;33m             \u001b[1;32mraise\u001b[0m \u001b[0mImportError\u001b[0m\u001b[1;33m(\u001b[0m\u001b[0mmessage\u001b[0m\u001b[1;33m)\u001b[0m \u001b[1;32mfrom\u001b[0m \u001b[0mexc_value\u001b[0m\u001b[1;33m\u001b[0m\u001b[1;33m\u001b[0m\u001b[0m\n\u001b[0m\u001b[0;32m     87\u001b[0m \u001b[1;33m\u001b[0m\u001b[0m\n\u001b[0;32m     88\u001b[0m \u001b[1;33m\u001b[0m\u001b[0m\n",
      "\u001b[1;31mImportError\u001b[0m: Tried to import 'plotly' but failed. Please make sure that the package is installed correctly to use this feature. Actual error: No module named 'plotly'."
     ]
    }
   ],
   "source": []
  },
  {
   "cell_type": "code",
   "execution_count": null,
   "metadata": {},
   "outputs": [],
   "source": []
  }
 ],
 "metadata": {
  "kernelspec": {
   "display_name": "Python 3",
   "language": "python",
   "name": "python3"
  },
  "language_info": {
   "codemirror_mode": {
    "name": "ipython",
    "version": 3
   },
   "file_extension": ".py",
   "mimetype": "text/x-python",
   "name": "python",
   "nbconvert_exporter": "python",
   "pygments_lexer": "ipython3",
   "version": "3.8.5"
  }
 },
 "nbformat": 4,
 "nbformat_minor": 4
}
